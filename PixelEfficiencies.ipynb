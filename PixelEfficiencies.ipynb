{
 "cells": [
  {
   "cell_type": "markdown",
   "metadata": {},
   "source": [
    "# Compute efficiency distributions for a proton sample"
   ]
  },
  {
   "cell_type": "code",
   "execution_count": null,
   "metadata": {},
   "outputs": [],
   "source": [
    "#!python3 -m pip install --user uproot4 awkward1 mplhep"
   ]
  },
  {
   "cell_type": "code",
   "execution_count": null,
   "metadata": {},
   "outputs": [],
   "source": [
    "import numpy as np\n",
    "import pandas as pd\n",
    "import h5py\n",
    "import matplotlib.pyplot as plt"
   ]
  },
  {
   "cell_type": "markdown",
   "metadata": {},
   "source": [
    "### Proton reconstruction flavors\n",
    "\n",
    "There are two ways to reconstruct protons in PPS: _single-RP_ and _multi-RP_\n",
    "The flag below controls which proton reconstruction is used.\n",
    "\n",
    "In the single-RP reconstruction, the proton kinematics is only partially reconstructed from a single detector station. \n",
    "In the multi-RP reconstruction, both \"near\" and \"far\" tracking detector stations in one spectrometer arm are used. \n",
    "\n",
    "The second is more accurate, at the cost of acceptance. In this exercise we will see how to retrieve efficiency corrections in for multiRP protons. \n",
    "\n",
    "We will work on a MC file with quite large statistics and apply the corrections needed to compare it with data taken in the **2017B** period"
   ]
  },
  {
   "cell_type": "code",
   "execution_count": null,
   "metadata": {},
   "outputs": [],
   "source": [
    "data_folder = \"/eos/user/c/cmsdas/short-exercises/pps-protons-tutorial/data/\"\n",
    "fileName_signal = data_folder+\"output-MC2017-Elastic-Non3+3-PreSel.h5\"\n",
    "\n",
    "#fileName_data = data_folder+\"data/output-UL2017B-PreSel.h5\"\n",
    "#fileName_data = data_folder+\"data/output-UL2017C1-PreSel.h5\"\n",
    "#fileName_data = data_folder+\"data/output-UL2017F1-PreSel.h5\"\n",
    "\n",
    "#proton_selection = \"SingleRP\"\n",
    "proton_selection = \"MultiRP\""
   ]
  },
  {
   "cell_type": "markdown",
   "metadata": {},
   "source": [
    "## Access the MC"
   ]
  },
  {
   "cell_type": "code",
   "execution_count": null,
   "metadata": {},
   "outputs": [],
   "source": [
    "df_signal = None\n",
    "event_counts_signal = None\n",
    "selections_str_signal = None\n",
    "\n",
    "with h5py.File( fileName_signal, 'r' ) as f:\n",
    "    print ( list(f.keys()) )\n",
    "    dset = f['protons']\n",
    "    print ( dset.shape )\n",
    "    print ( dset[:,:] )\n",
    "    dset_columns = f['columns']\n",
    "    print ( dset_columns.shape )\n",
    "    columns = list( dset_columns )\n",
    "    print ( columns )\n",
    "    columns_str = [ item.decode(\"utf-8\") for item in columns ]\n",
    "    print ( columns_str )\n",
    "\n",
    "    df_signal = pd.DataFrame( dset, columns=columns_str )\n",
    "    \n",
    "    df_signal = df_signal[ ['Run', 'LumiSection', 'EventNum', 'CrossingAngle', \n",
    "                            'MultiRP', 'Arm', 'RPId1', 'RPId2', 'TrackX1', 'TrackY1', 'TrackX2', 'TrackY2',\n",
    "                            'Xi', 'T', 'ThX', 'ThY',\n",
    "                            'Muon0Pt', 'Muon1Pt', 'InvMass', 'ExtraPfCands', 'Acopl', 'XiMuMuPlus', 'XiMuMuMinus'] ].astype( { \"Run\": \"int64\", \"LumiSection\": \"int64\", \"EventNum\": \"int64\", \"MultiRP\": \"int32\", \"Arm\": \"int32\", \"RPId1\": \"int32\", \"RPId2\": \"int32\", \"ExtraPfCands\": \"int32\" } )\n",
    "    "
   ]
  },
  {
   "cell_type": "markdown",
   "metadata": {},
   "source": [
    "### Proton efficiency extraction\n",
    "\n",
    "We will evaluate the efficiency correction for _multi-RP_ protons. \n",
    "\n",
    "This has to be computed as the product of the efficiency of the \"210 Far\" detector station (silicon strips, in 2017) and the \"multiRP efficiency\".\n",
    "\n",
    "The efficiency components for the strips is divided in two parts: multitrack and sensor. \n",
    "The former accounts the inefficiency caused by strips detectors not being able to reconstruct multiple tracks in the same event. This is a single numeric factor.\n",
    "The sensor efficiency takes into account local inefficiencies caused, e.g., by radiation damage and is supplied as a 2D, xy map. \n",
    "\n",
    "The multiRP efficiency accounts instead for both the sensor efficiency of the 220 Far RP (pixels in 2017 and 2018) and the inefficiency component given by the proton chance of interacting while travelling from the near to the far RP. Again, this is supplied as a 2D, xy map.\n",
    "\n",
    "A different measurement is available for each data period here included: 2017B, 2017C1, 2017F1.\n",
    "\n",
    "Despite being counter-intuitive, it should be noted that, for 210 Far RP efficiencies one should use the xy coordinates measured in the 220 Far RP (TrackX2/TrackY2) and for multiRP the ones measured in the 210 Far RP (TrackX1/TrackY1). This is a consequence of the Tag&Probe method used to produce the efficiency corrections."
   ]
  },
  {
   "cell_type": "code",
   "execution_count": null,
   "metadata": {},
   "outputs": [],
   "source": [
    "import ROOT\n",
    "\n",
    "# Efficiency correction files\n",
    "strips_efficiency_file = ROOT.TFile.Open(\"/eos/home-c/cmsdas/short-exercises/pps-protons-tutorial/PreliminaryEfficiencies_July132020_1D2DMultiTrack.root\")\n",
    "multiRP_efficiency_file = ROOT.TFile.Open(\"/eos/home-c/cmsdas/short-exercises/pps-protons-tutorial/pixelEfficiencies_multiRP.root\")\n",
    "\n",
    "data_taking_period = \"2017B\"\n",
    "year = data_taking_period[:4]\n",
    "\n",
    "strips_multitrack_efficiency = {}\n",
    "strips_sensor_efficiency = {}\n",
    "multiRP_efficiency = {}\n",
    "\n",
    "# Retrieve histograms from files and save them in dictionaries for future usage\n",
    "for sector in [\"45\",\"56\"]:\n",
    "    rp_number = \"3\" if sector == \"45\" else \"103\"\n",
    "    strips_multitrack_efficiency[sector] = strips_efficiency_file.Get(\"Strips/\"+year+\"/\"+data_taking_period+\"/h\"+sector+\"multitrackeff_\"+data_taking_period+\"_avg_RP\"+rp_number).GetBinContent(1)\n",
    "    strips_sensor_efficiency[sector] = strips_efficiency_file.Get(\"Strips/\"+year+\"/\"+data_taking_period+\"/h\"+sector+\"_\"+data_taking_period+\"_all_2D\")\n",
    "    multiRP_efficiency[sector] = multiRP_efficiency_file.Get(\"Pixel/\"+year+\"/\"+data_taking_period+\"/h\"+sector+\"_220_\"+data_taking_period+\"_all_2D\")"
   ]
  },
  {
   "cell_type": "code",
   "execution_count": null,
   "metadata": {},
   "outputs": [],
   "source": [
    "# Select only multiRP protons from dataframe\n",
    "df_multiRP = df_signal[df_signal[\"MultiRP\"] == 1]\n",
    "\n",
    "# Create column for the efficiency\n",
    "proton_strips_multitrack_efficiency = []\n",
    "proton_strips_sensor_efficiency = []\n",
    "proton_multiRP_efficiency = []\n",
    "for row_n,row in df_multiRP.iterrows():\n",
    "    sector = \"45\" if row[\"Arm\"] == 0 else \"56\"\n",
    "    proton_strips_multitrack_efficiency.append(strips_multitrack_efficiency[sector])\n",
    "    proton_strips_sensor_efficiency.append(strips_sensor_efficiency[sector].GetBinContent(strips_sensor_efficiency[sector].FindBin(row[\"TrackX2\"],row[\"TrackY2\"])))\n",
    "    proton_multiRP_efficiency.append(multiRP_efficiency[sector].GetBinContent(multiRP_efficiency[sector].FindBin(row[\"TrackX1\"],row[\"TrackY1\"])))"
   ]
  },
  {
   "cell_type": "code",
   "execution_count": null,
   "metadata": {},
   "outputs": [],
   "source": [
    "# Add efficiency column to the new multiRP protons dataframe\n",
    "df_multiRP_withEfficiency = df_multiRP.copy()\n",
    "df_multiRP_withEfficiency[\"Strips_multitrack_efficiency\"] = proton_strips_multitrack_efficiency \n",
    "df_multiRP_withEfficiency[\"Strips_sensor_efficiency\"] = proton_strips_sensor_efficiency\n",
    "df_multiRP_withEfficiency[\"MultiRP_efficiency\"] = proton_multiRP_efficiency\n",
    "df_multiRP_withEfficiency[\"Efficiency\"] = df_multiRP_withEfficiency[\"Strips_multitrack_efficiency\"] * df_multiRP_withEfficiency[\"Strips_sensor_efficiency\"] * df_multiRP_withEfficiency[\"MultiRP_efficiency\"]"
   ]
  },
  {
   "cell_type": "code",
   "execution_count": null,
   "metadata": {},
   "outputs": [],
   "source": [
    "# Show a few lines of the new dataframe\n",
    "df_multiRP_withEfficiency[:20]"
   ]
  },
  {
   "cell_type": "markdown",
   "metadata": {},
   "source": [
    "### Plot the efficiency vs. Xi distributions"
   ]
  },
  {
   "cell_type": "code",
   "execution_count": null,
   "metadata": {},
   "outputs": [],
   "source": [
    "fig, axis = plt.subplots(figsize=(10,10))\n",
    "n_bins = 10\n",
    "arm = 0\n",
    "\n",
    "# Select only protons with Arm == 0\n",
    "df_multiRP_withEfficiency_arm = df_multiRP_withEfficiency[df_multiRP_withEfficiency[\"Arm\"] == arm]\n",
    "\n",
    "# Bin data depending on xi -> xi_counts = bin content\n",
    "xi_counts, xi_bins, *_ = axis.hist( df_multiRP_withEfficiency_arm[\"Xi\"], bins=n_bins,visible=False)\n",
    "\n",
    "# Get bin contents while weighting on the strips multitrack efficiency of each entry\n",
    "strips_multitrack_efficiency_counts, *_ = axis.hist( df_multiRP_withEfficiency_arm[\"Xi\"], bins=n_bins,weights=df_multiRP_withEfficiency_arm[\"Strips_multitrack_efficiency\"],visible=False)\n",
    "# Get bin contents while weighting on the strips sensor efficiency of each entry\n",
    "strips_sensor_efficiency_counts, *_ = axis.hist( df_multiRP_withEfficiency_arm[\"Xi\"], bins=n_bins,weights=df_multiRP_withEfficiency_arm[\"Strips_sensor_efficiency\"],visible=False)\n",
    "# Get bin contents while weighting on the multiRP efficiency of each entry\n",
    "multiRP_efficiency_counts, *_ = axis.hist( df_multiRP_withEfficiency_arm[\"Xi\"], bins=n_bins,weights=df_multiRP_withEfficiency_arm[\"MultiRP_efficiency\"],visible=False)\n",
    "\n",
    "# Compute bin centers and averages\n",
    "xi_bin_centers = [(xi_bins[i] + xi_bins[i+1])/2 for i in range(len(xi_bins)-1)]\n",
    "strips_multitrack_avg_efficiency_counts = strips_multitrack_efficiency_counts / xi_counts\n",
    "strips_sensor_avg_efficiency_counts = strips_sensor_efficiency_counts / xi_counts\n",
    "multiRP_avg_efficiency_counts = multiRP_efficiency_counts / xi_counts\n",
    "total_efficiency = strips_multitrack_avg_efficiency_counts * strips_sensor_avg_efficiency_counts * multiRP_avg_efficiency_counts\n",
    "\n",
    "# Plot efficiencies\n",
    "axis.plot(xi_bin_centers,strips_multitrack_avg_efficiency_counts, label=\"Strips Multitrack Efficiency\")\n",
    "axis.plot(xi_bin_centers,strips_sensor_avg_efficiency_counts, label=\"Strips Sensor Efficiency\")\n",
    "axis.plot(xi_bin_centers,multiRP_avg_efficiency_counts, label=\"MultiRP Efficiency\")\n",
    "axis.plot(xi_bin_centers,total_efficiency, label=\"Total Efficiency\")\n",
    "\n",
    "\n",
    "# Add labels and legend\n",
    "ylim = axis.set_ylim([0,1])\n",
    "axis.set_ylabel( \"Efficiency\", fontsize=20 )\n",
    "axis.set_xlabel( r\"$\\xi$\", fontsize=20 )\n",
    "l = plt.legend(fontsize=20)"
   ]
  },
  {
   "cell_type": "code",
   "execution_count": null,
   "metadata": {},
   "outputs": [],
   "source": []
  }
 ],
 "metadata": {
  "kernelspec": {
   "display_name": "Python 3",
   "language": "python",
   "name": "python3"
  },
  "language_info": {
   "codemirror_mode": {
    "name": "ipython",
    "version": 3
   },
   "file_extension": ".py",
   "mimetype": "text/x-python",
   "name": "python",
   "nbconvert_exporter": "python",
   "pygments_lexer": "ipython3",
   "version": "3.7.6"
  }
 },
 "nbformat": 4,
 "nbformat_minor": 4
}
