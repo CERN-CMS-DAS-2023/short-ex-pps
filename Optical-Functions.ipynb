{
 "cells": [
  {
   "cell_type": "markdown",
   "metadata": {},
   "source": [
    "# Optical functions & Proton transport"
   ]
  },
  {
   "cell_type": "markdown",
   "metadata": {},
   "source": [
    "### Auxiliary class to handle optical functions"
   ]
  },
  {
   "cell_type": "code",
   "execution_count": 1,
   "metadata": {},
   "outputs": [
    {
     "name": "stdout",
     "output_type": "stream",
     "text": [
      "Welcome to JupyROOT 6.26/08\n"
     ]
    }
   ],
   "source": [
    "from SimpleLHCPropagator import *"
   ]
  },
  {
   "cell_type": "code",
   "execution_count": 2,
   "metadata": {
    "scrolled": true
   },
   "outputs": [
    {
     "name": "stdout",
     "output_type": "stream",
     "text": [
      "Help on class SimpleLHCPropagator in module SimpleLHCPropagator:\n",
      "\n",
      "class SimpleLHCPropagator(builtins.object)\n",
      " |  SimpleLHCPropagator(files, verbose=False)\n",
      " |  \n",
      " |  Methods defined here:\n",
      " |  \n",
      " |  __init__(self, files, verbose=False)\n",
      " |      Initialize self.  See help(type(self)) for accurate signature.\n",
      " |  \n",
      " |  draw_function(self, xangle, rpid, tag)\n",
      " |  \n",
      " |  draw_function_vs_rpid(self, xangle, tag)\n",
      " |  \n",
      " |  draw_function_vs_xangle(self, rpid, tag)\n",
      " |  \n",
      " |  eval(self, rpid, xangle, tag, x)\n",
      " |  \n",
      " |  get_function(self, xangle, rpid, tag)\n",
      " |  \n",
      " |  of_tags(self)\n",
      " |  \n",
      " |  rp_index(self, key)\n",
      " |  \n",
      " |  set_verbose(self, flag)\n",
      " |  \n",
      " |  transport(self, rpid, xangle, kinematics)\n",
      " |  \n",
      " |  ----------------------------------------------------------------------\n",
      " |  Data descriptors defined here:\n",
      " |  \n",
      " |  __dict__\n",
      " |      dictionary for instance variables (if defined)\n",
      " |  \n",
      " |  __weakref__\n",
      " |      list of weak references to the object (if defined)\n",
      "\n"
     ]
    }
   ],
   "source": [
    "help(SimpleLHCPropagator)"
   ]
  },
  {
   "cell_type": "markdown",
   "metadata": {},
   "source": [
    "### For a given optics configuration, load optical functions for a set of principal crossing angles\n",
    "\n",
    "The optical functions are stored in [cms-data/CalibPPS-ESProducers](https://github.com/cms-data/CalibPPS-ESProducers/tree/master/optical_functions) for LHC Run 2 or in PRO POG eos area (<font color='brown'>/eos/cms/store/group/phys_pps/reconstruction/optical_functions</font>) for LHC Run 3."
   ]
  },
  {
   "cell_type": "code",
   "execution_count": 3,
   "metadata": {},
   "outputs": [
    {
     "name": "stdout",
     "output_type": "stream",
     "text": [
      "Accessing optical functions for crossing angle 135\n",
      "Accessing XRPH_D6L5_B2/g_x_D_vs_xi\n",
      "Accessing XRPH_D6L5_B2/g_v_x_vs_xi\n",
      "Accessing XRPH_D6L5_B2/g_L_x_vs_xi\n",
      "Accessing XRPH_D6L5_B2/g_y_D_vs_xi\n",
      "Accessing XRPH_D6L5_B2/g_v_y_vs_xi\n",
      "Accessing XRPH_D6L5_B2/g_L_y_vs_xi\n",
      "Accessing XRPH_E6L5_B2/g_x_D_vs_xi\n",
      "Accessing XRPH_E6L5_B2/g_v_x_vs_xi\n",
      "Accessing XRPH_E6L5_B2/g_L_x_vs_xi\n",
      "Accessing XRPH_E6L5_B2/g_y_D_vs_xi\n",
      "Accessing XRPH_E6L5_B2/g_v_y_vs_xi\n",
      "Accessing XRPH_E6L5_B2/g_L_y_vs_xi\n",
      "Accessing XRPH_B6L5_B2/g_x_D_vs_xi\n",
      "Accessing XRPH_B6L5_B2/g_v_x_vs_xi\n",
      "Accessing XRPH_B6L5_B2/g_L_x_vs_xi\n",
      "Accessing XRPH_B6L5_B2/g_y_D_vs_xi\n",
      "Accessing XRPH_B6L5_B2/g_v_y_vs_xi\n",
      "Accessing XRPH_B6L5_B2/g_L_y_vs_xi\n",
      "Accessing XRPH_D6R5_B1/g_x_D_vs_xi\n",
      "Accessing XRPH_D6R5_B1/g_v_x_vs_xi\n",
      "Accessing XRPH_D6R5_B1/g_L_x_vs_xi\n",
      "Accessing XRPH_D6R5_B1/g_y_D_vs_xi\n",
      "Accessing XRPH_D6R5_B1/g_v_y_vs_xi\n",
      "Accessing XRPH_D6R5_B1/g_L_y_vs_xi\n",
      "Accessing XRPH_E6R5_B1/g_x_D_vs_xi\n",
      "Accessing XRPH_E6R5_B1/g_v_x_vs_xi\n",
      "Accessing XRPH_E6R5_B1/g_L_x_vs_xi\n",
      "Accessing XRPH_E6R5_B1/g_y_D_vs_xi\n",
      "Accessing XRPH_E6R5_B1/g_v_y_vs_xi\n",
      "Accessing XRPH_E6R5_B1/g_L_y_vs_xi\n",
      "Accessing XRPH_B6R5_B1/g_x_D_vs_xi\n",
      "Accessing XRPH_B6R5_B1/g_v_x_vs_xi\n",
      "Accessing XRPH_B6R5_B1/g_L_x_vs_xi\n",
      "Accessing XRPH_B6R5_B1/g_y_D_vs_xi\n",
      "Accessing XRPH_B6R5_B1/g_v_y_vs_xi\n",
      "Accessing XRPH_B6R5_B1/g_L_y_vs_xi\n",
      "Accessing optical functions for crossing angle 145\n",
      "Accessing XRPH_D6L5_B2/g_x_D_vs_xi\n",
      "Accessing XRPH_D6L5_B2/g_v_x_vs_xi\n",
      "Accessing XRPH_D6L5_B2/g_L_x_vs_xi\n",
      "Accessing XRPH_D6L5_B2/g_y_D_vs_xi\n",
      "Accessing XRPH_D6L5_B2/g_v_y_vs_xi\n",
      "Accessing XRPH_D6L5_B2/g_L_y_vs_xi\n",
      "Accessing XRPH_E6L5_B2/g_x_D_vs_xi\n",
      "Accessing XRPH_E6L5_B2/g_v_x_vs_xi\n",
      "Accessing XRPH_E6L5_B2/g_L_x_vs_xi\n",
      "Accessing XRPH_E6L5_B2/g_y_D_vs_xi\n",
      "Accessing XRPH_E6L5_B2/g_v_y_vs_xi\n",
      "Accessing XRPH_E6L5_B2/g_L_y_vs_xi\n",
      "Accessing XRPH_B6L5_B2/g_x_D_vs_xi\n",
      "Accessing XRPH_B6L5_B2/g_v_x_vs_xi\n",
      "Accessing XRPH_B6L5_B2/g_L_x_vs_xi\n",
      "Accessing XRPH_B6L5_B2/g_y_D_vs_xi\n",
      "Accessing XRPH_B6L5_B2/g_v_y_vs_xi\n",
      "Accessing XRPH_B6L5_B2/g_L_y_vs_xi\n",
      "Accessing XRPH_D6R5_B1/g_x_D_vs_xi\n",
      "Accessing XRPH_D6R5_B1/g_v_x_vs_xi\n",
      "Accessing XRPH_D6R5_B1/g_L_x_vs_xi\n",
      "Accessing XRPH_D6R5_B1/g_y_D_vs_xi\n",
      "Accessing XRPH_D6R5_B1/g_v_y_vs_xi\n",
      "Accessing XRPH_D6R5_B1/g_L_y_vs_xi\n",
      "Accessing XRPH_E6R5_B1/g_x_D_vs_xi\n",
      "Accessing XRPH_E6R5_B1/g_v_x_vs_xi\n",
      "Accessing XRPH_E6R5_B1/g_L_x_vs_xi\n",
      "Accessing XRPH_E6R5_B1/g_y_D_vs_xi\n",
      "Accessing XRPH_E6R5_B1/g_v_y_vs_xi\n",
      "Accessing XRPH_E6R5_B1/g_L_y_vs_xi\n",
      "Accessing XRPH_B6R5_B1/g_x_D_vs_xi\n",
      "Accessing XRPH_B6R5_B1/g_v_x_vs_xi\n",
      "Accessing XRPH_B6R5_B1/g_L_x_vs_xi\n",
      "Accessing XRPH_B6R5_B1/g_y_D_vs_xi\n",
      "Accessing XRPH_B6R5_B1/g_v_y_vs_xi\n",
      "Accessing XRPH_B6R5_B1/g_L_y_vs_xi\n",
      "Accessing optical functions for crossing angle 160\n",
      "Accessing XRPH_D6L5_B2/g_x_D_vs_xi\n",
      "Accessing XRPH_D6L5_B2/g_v_x_vs_xi\n",
      "Accessing XRPH_D6L5_B2/g_L_x_vs_xi\n",
      "Accessing XRPH_D6L5_B2/g_y_D_vs_xi\n",
      "Accessing XRPH_D6L5_B2/g_v_y_vs_xi\n",
      "Accessing XRPH_D6L5_B2/g_L_y_vs_xi\n",
      "Accessing XRPH_E6L5_B2/g_x_D_vs_xi\n",
      "Accessing XRPH_E6L5_B2/g_v_x_vs_xi\n",
      "Accessing XRPH_E6L5_B2/g_L_x_vs_xi\n",
      "Accessing XRPH_E6L5_B2/g_y_D_vs_xi\n",
      "Accessing XRPH_E6L5_B2/g_v_y_vs_xi\n",
      "Accessing XRPH_E6L5_B2/g_L_y_vs_xi\n",
      "Accessing XRPH_B6L5_B2/g_x_D_vs_xi\n",
      "Accessing XRPH_B6L5_B2/g_v_x_vs_xi\n",
      "Accessing XRPH_B6L5_B2/g_L_x_vs_xi\n",
      "Accessing XRPH_B6L5_B2/g_y_D_vs_xi\n",
      "Accessing XRPH_B6L5_B2/g_v_y_vs_xi\n",
      "Accessing XRPH_B6L5_B2/g_L_y_vs_xi\n",
      "Accessing XRPH_D6R5_B1/g_x_D_vs_xi\n",
      "Accessing XRPH_D6R5_B1/g_v_x_vs_xi\n",
      "Accessing XRPH_D6R5_B1/g_L_x_vs_xi\n",
      "Accessing XRPH_D6R5_B1/g_y_D_vs_xi\n",
      "Accessing XRPH_D6R5_B1/g_v_y_vs_xi\n",
      "Accessing XRPH_D6R5_B1/g_L_y_vs_xi\n",
      "Accessing XRPH_E6R5_B1/g_x_D_vs_xi\n",
      "Accessing XRPH_E6R5_B1/g_v_x_vs_xi\n",
      "Accessing XRPH_E6R5_B1/g_L_x_vs_xi\n",
      "Accessing XRPH_E6R5_B1/g_y_D_vs_xi\n",
      "Accessing XRPH_E6R5_B1/g_v_y_vs_xi\n",
      "Accessing XRPH_E6R5_B1/g_L_y_vs_xi\n",
      "Accessing XRPH_B6R5_B1/g_x_D_vs_xi\n",
      "Accessing XRPH_B6R5_B1/g_v_x_vs_xi\n",
      "Accessing XRPH_B6R5_B1/g_L_x_vs_xi\n",
      "Accessing XRPH_B6R5_B1/g_y_D_vs_xi\n",
      "Accessing XRPH_B6R5_B1/g_v_y_vs_xi\n",
      "Accessing XRPH_B6R5_B1/g_L_y_vs_xi\n",
      "{135: {3: {'x_D': <cppyy.gbl.TSpline3 object at 0x994cb30>, 'xi_vs_x': <cppyy.gbl.TSpline3 object at 0x9950b50>, 'v_x': <cppyy.gbl.TSpline3 object at 0x99270e0>, 'L_x': <cppyy.gbl.TSpline3 object at 0x78174c0>, 'y_D': <cppyy.gbl.TSpline3 object at 0x98f3440>, 'v_y': <cppyy.gbl.TSpline3 object at 0x7796240>, 'L_y': <cppyy.gbl.TSpline3 object at 0x7428430>}, 16: {'x_D': <cppyy.gbl.TSpline3 object at 0x95df630>, 'xi_vs_x': <cppyy.gbl.TSpline3 object at 0x98f3370>, 'v_x': <cppyy.gbl.TSpline3 object at 0x9951ba0>, 'L_x': <cppyy.gbl.TSpline3 object at 0x95df560>, 'y_D': <cppyy.gbl.TSpline3 object at 0x9934330>, 'v_y': <cppyy.gbl.TSpline3 object at 0x743ac60>, 'L_y': <cppyy.gbl.TSpline3 object at 0x9937a90>}, 23: {'x_D': <cppyy.gbl.TSpline3 object at 0x993be80>, 'xi_vs_x': <cppyy.gbl.TSpline3 object at 0x9927640>, 'v_x': <cppyy.gbl.TSpline3 object at 0x9943000>, 'L_x': <cppyy.gbl.TSpline3 object at 0x99326f0>, 'y_D': <cppyy.gbl.TSpline3 object at 0x9932620>, 'v_y': <cppyy.gbl.TSpline3 object at 0x98f1ec0>, 'L_y': <cppyy.gbl.TSpline3 object at 0x9941250>}, 103: {'x_D': <cppyy.gbl.TSpline3 object at 0x9944040>, 'xi_vs_x': <cppyy.gbl.TSpline3 object at 0x9941180>, 'v_x': <cppyy.gbl.TSpline3 object at 0x9935a30>, 'L_x': <cppyy.gbl.TSpline3 object at 0x9940c60>, 'y_D': <cppyy.gbl.TSpline3 object at 0x9935960>, 'v_y': <cppyy.gbl.TSpline3 object at 0x9971e10>, 'L_y': <cppyy.gbl.TSpline3 object at 0x992c540>}, 116: {'x_D': <cppyy.gbl.TSpline3 object at 0x9929700>, 'xi_vs_x': <cppyy.gbl.TSpline3 object at 0x992c0f0>, 'v_x': <cppyy.gbl.TSpline3 object at 0x9934e70>, 'L_x': <cppyy.gbl.TSpline3 object at 0x99348c0>, 'y_D': <cppyy.gbl.TSpline3 object at 0x992cad0>, 'v_y': <cppyy.gbl.TSpline3 object at 0x992d5b0>, 'L_y': <cppyy.gbl.TSpline3 object at 0x98f1df0>}, 123: {'x_D': <cppyy.gbl.TSpline3 object at 0x99685d0>, 'xi_vs_x': <cppyy.gbl.TSpline3 object at 0x992d4e0>, 'v_x': <cppyy.gbl.TSpline3 object at 0x9932530>, 'L_x': <cppyy.gbl.TSpline3 object at 0x993ebf0>, 'y_D': <cppyy.gbl.TSpline3 object at 0x994aee0>, 'v_y': <cppyy.gbl.TSpline3 object at 0x994ab30>, 'L_y': <cppyy.gbl.TSpline3 object at 0x9930c70>}}, 145: {3: {'x_D': <cppyy.gbl.TSpline3 object at 0x9935540>, 'xi_vs_x': <cppyy.gbl.TSpline3 object at 0x9930900>, 'v_x': <cppyy.gbl.TSpline3 object at 0x993b310>, 'L_x': <cppyy.gbl.TSpline3 object at 0x9973730>, 'y_D': <cppyy.gbl.TSpline3 object at 0x99357b0>, 'v_y': <cppyy.gbl.TSpline3 object at 0x9930590>, 'L_y': <cppyy.gbl.TSpline3 object at 0x9977590>}, 16: {'x_D': <cppyy.gbl.TSpline3 object at 0x9977ca0>, 'xi_vs_x': <cppyy.gbl.TSpline3 object at 0x99738c0>, 'v_x': <cppyy.gbl.TSpline3 object at 0x9945ad0>, 'L_x': <cppyy.gbl.TSpline3 object at 0x997b1c0>, 'y_D': <cppyy.gbl.TSpline3 object at 0x9949f50>, 'v_y': <cppyy.gbl.TSpline3 object at 0x99356d0>, 'L_y': <cppyy.gbl.TSpline3 object at 0x9976740>}, 23: {'x_D': <cppyy.gbl.TSpline3 object at 0x997f420>, 'xi_vs_x': <cppyy.gbl.TSpline3 object at 0x9945d40>, 'v_x': <cppyy.gbl.TSpline3 object at 0x99304b0>, 'L_x': <cppyy.gbl.TSpline3 object at 0x9982830>, 'y_D': <cppyy.gbl.TSpline3 object at 0x9979490>, 'v_y': <cppyy.gbl.TSpline3 object at 0x9976240>, 'L_y': <cppyy.gbl.TSpline3 object at 0x992fd70>}, 103: {'x_D': <cppyy.gbl.TSpline3 object at 0x992fca0>, 'xi_vs_x': <cppyy.gbl.TSpline3 object at 0x9946050>, 'v_x': <cppyy.gbl.TSpline3 object at 0x9949e80>, 'L_x': <cppyy.gbl.TSpline3 object at 0x99889c0>, 'y_D': <cppyy.gbl.TSpline3 object at 0x993b960>, 'v_y': <cppyy.gbl.TSpline3 object at 0x998a8b0>, 'L_y': <cppyy.gbl.TSpline3 object at 0x997f110>}, 116: {'x_D': <cppyy.gbl.TSpline3 object at 0x99847c0>, 'xi_vs_x': <cppyy.gbl.TSpline3 object at 0x992feb0>, 'v_x': <cppyy.gbl.TSpline3 object at 0x9984360>, 'L_x': <cppyy.gbl.TSpline3 object at 0x9962cf0>, 'y_D': <cppyy.gbl.TSpline3 object at 0x9980c00>, 'v_y': <cppyy.gbl.TSpline3 object at 0x994a6b0>, 'L_y': <cppyy.gbl.TSpline3 object at 0x998e610>}, 123: {'x_D': <cppyy.gbl.TSpline3 object at 0x99303e0>, 'xi_vs_x': <cppyy.gbl.TSpline3 object at 0x9982130>, 'v_x': <cppyy.gbl.TSpline3 object at 0x9977290>, 'L_x': <cppyy.gbl.TSpline3 object at 0x998e8a0>, 'y_D': <cppyy.gbl.TSpline3 object at 0x9949d60>, 'v_y': <cppyy.gbl.TSpline3 object at 0x9990f50>, 'L_y': <cppyy.gbl.TSpline3 object at 0x9981fa0>}}, 160: {3: {'x_D': <cppyy.gbl.TSpline3 object at 0x99a0b80>, 'xi_vs_x': <cppyy.gbl.TSpline3 object at 0x9995730>, 'v_x': <cppyy.gbl.TSpline3 object at 0x9999320>, 'L_x': <cppyy.gbl.TSpline3 object at 0x99a0fa0>, 'y_D': <cppyy.gbl.TSpline3 object at 0x99a1d10>, 'v_y': <cppyy.gbl.TSpline3 object at 0x99a93b0>, 'L_y': <cppyy.gbl.TSpline3 object at 0x99a9ab0>}, 16: {'x_D': <cppyy.gbl.TSpline3 object at 0x99acf20>, 'xi_vs_x': <cppyy.gbl.TSpline3 object at 0x99a8610>, 'v_x': <cppyy.gbl.TSpline3 object at 0x99ac670>, 'L_x': <cppyy.gbl.TSpline3 object at 0x99a5a90>, 'y_D': <cppyy.gbl.TSpline3 object at 0x99a57f0>, 'v_y': <cppyy.gbl.TSpline3 object at 0x99a8990>, 'L_y': <cppyy.gbl.TSpline3 object at 0x99b01b0>}, 23: {'x_D': <cppyy.gbl.TSpline3 object at 0x9998ce0>, 'xi_vs_x': <cppyy.gbl.TSpline3 object at 0x9999250>, 'v_x': <cppyy.gbl.TSpline3 object at 0x99a9720>, 'L_x': <cppyy.gbl.TSpline3 object at 0x99ac570>, 'y_D': <cppyy.gbl.TSpline3 object at 0x99accb0>, 'v_y': <cppyy.gbl.TSpline3 object at 0x99ac490>, 'L_y': <cppyy.gbl.TSpline3 object at 0x99b8a40>}, 103: {'x_D': <cppyy.gbl.TSpline3 object at 0x99ac0b0>, 'xi_vs_x': <cppyy.gbl.TSpline3 object at 0x99627d0>, 'v_x': <cppyy.gbl.TSpline3 object at 0x99b6be0>, 'L_x': <cppyy.gbl.TSpline3 object at 0x99bbda0>, 'y_D': <cppyy.gbl.TSpline3 object at 0x99a8a60>, 'v_y': <cppyy.gbl.TSpline3 object at 0x99ad7f0>, 'L_y': <cppyy.gbl.TSpline3 object at 0x99a8390>}, 116: {'x_D': <cppyy.gbl.TSpline3 object at 0x99bd8c0>, 'xi_vs_x': <cppyy.gbl.TSpline3 object at 0x99a74f0>, 'v_x': <cppyy.gbl.TSpline3 object at 0x99c23b0>, 'L_x': <cppyy.gbl.TSpline3 object at 0x999a3e0>, 'y_D': <cppyy.gbl.TSpline3 object at 0x99ac310>, 'v_y': <cppyy.gbl.TSpline3 object at 0x99bb560>, 'L_y': <cppyy.gbl.TSpline3 object at 0x99b0ab0>}, 123: {'x_D': <cppyy.gbl.TSpline3 object at 0x99c66a0>, 'xi_vs_x': <cppyy.gbl.TSpline3 object at 0x99b5a60>, 'v_x': <cppyy.gbl.TSpline3 object at 0x99b0830>, 'L_x': <cppyy.gbl.TSpline3 object at 0x99b0760>, 'y_D': <cppyy.gbl.TSpline3 object at 0x99a4e00>, 'v_y': <cppyy.gbl.TSpline3 object at 0x99a3200>, 'L_y': <cppyy.gbl.TSpline3 object at 0x99c2620>}}}\n",
      "{'/eos/home-c/cmsdas/2023/short-ex-pps/optical_functions/2023/version_1/135.000urad.root': <cppyy.gbl.TFile object at 0x95cbb80>, '/eos/home-c/cmsdas/2023/short-ex-pps/optical_functions/2023/version_1/144.974urad.root': <cppyy.gbl.TFile object at 0x9972710>, '/eos/home-c/cmsdas/2023/short-ex-pps/optical_functions/2023/version_1/160.000urad.root': <cppyy.gbl.TFile object at 0x994a2d0>}\n"
     ]
    }
   ],
   "source": [
    "files = {\n",
    "    135: \"/eos/home-c/cmsdas/2023/short-ex-pps/optical_functions/2023/version_1/135.000urad.root\",\n",
    "    145: \"/eos/home-c/cmsdas/2023/short-ex-pps/optical_functions/2023/version_1/144.974urad.root\",\n",
    "    160: \"/eos/home-c/cmsdas/2023/short-ex-pps/optical_functions/2023/version_1/160.000urad.root\"\n",
    "}\n",
    "\n",
    "proton_transport = SimpleLHCPropagator( files )"
   ]
  },
  {
   "cell_type": "markdown",
   "metadata": {},
   "source": [
    "### Optical functions\n",
    "\n",
    "A Proton that energe intact from the intraction, will remain inside the beam, but it will be diflected differently by the LHC optics resolting in displacement from the beam center. Protons can be parameterized using 5 kinematics parameters:\n",
    "   * ($x^*, y^*$) - coordinates of the interation point \n",
    "   * ($\\theta_x^*, \\theta_y^*$) - proton scattering angle\n",
    "   * $\\xi$ - proton momentum loss\n",
    "\n",
    "The transverse position of the proton ($x,y$), that passes detector plane in Roman Pot (RP) determined by the beam optics, and it related to proton kinematic parameters:\n",
    "$$ x = v_x\\cdot x^* + L_x\\cdot \\theta_x^* + D_{x}(\\xi)\\cdot\\xi $$ \n",
    "$$ y = v_y\\cdot y^* + L_y\\cdot \\theta_y^* + D_{y}(\\xi)\\cdot\\xi $$ \n",
    "\n",
    "Where $D(\\xi)$ is the dispersion of the mathine, $L$ is the effective length and $v$ is the magnification parameter.\n",
    "\n",
    "#### Draw an optical function\n",
    "\n",
    "Example of the optical function of dispersion along the x-axis for different proton momentum losses. Note that the inverse of this function can be used to translate the x-coordinate of the proton track to the proton's momentum loss. \n",
    "\n",
    "$$ x = D_{x}(\\xi)\\times\\xi $$ "
   ]
  },
  {
   "cell_type": "code",
   "execution_count": 4,
   "metadata": {
    "scrolled": false
   },
   "outputs": [
    {
     "name": "stdout",
     "output_type": "stream",
     "text": [
      "Tags: ('x_D', 'v_x', 'L_x', 'y_D', 'v_y', 'L_y')\n"
     ]
    },
    {
     "data": {
      "text/plain": [
       "(<cppyy.gbl.TSpline3 object at 0x993be80>,\n",
       " <cppyy.gbl.TCanvas object at 0x9d58080>)"
      ]
     },
     "execution_count": 4,
     "metadata": {},
     "output_type": "execute_result"
    },
    {
     "data": {
      "image/png": "[encoded data removed]",
      "text/plain": [
       "<IPython.core.display.Image object>"
      ]
     },
     "metadata": {},
     "output_type": "display_data"
    }
   ],
   "source": [
    "print ( \"Tags:\", proton_transport.of_tags() )\n",
    "\n",
    "proton_transport.draw_function( 135, 23, \"x_D\" )"
   ]
  },
  {
   "cell_type": "markdown",
   "metadata": {},
   "source": [
    "#### Draw an optical function at different RPs"
   ]
  },
  {
   "cell_type": "code",
   "execution_count": 5,
   "metadata": {},
   "outputs": [
    {
     "data": {
      "text/plain": [
       "([<cppyy.gbl.TSpline3 object at 0x994cb30>,\n",
       "  <cppyy.gbl.TSpline3 object at 0x95df630>,\n",
       "  <cppyy.gbl.TSpline3 object at 0x993be80>,\n",
       "  <cppyy.gbl.TSpline3 object at 0x9944040>,\n",
       "  <cppyy.gbl.TSpline3 object at 0x9929700>,\n",
       "  <cppyy.gbl.TSpline3 object at 0x99685d0>],\n",
       " <cppyy.gbl.TCanvas object at 0xa35b260>,\n",
       " <cppyy.gbl.TLegend object at 0xa409fb0>)"
      ]
     },
     "execution_count": 5,
     "metadata": {},
     "output_type": "execute_result"
    },
    {
     "data": {
      "image/png": "[encoded data removed]",
      "text/plain": [
       "<IPython.core.display.Image object>"
      ]
     },
     "metadata": {},
     "output_type": "display_data"
    }
   ],
   "source": [
    "proton_transport.draw_function_vs_rpid( 135, \"x_D\" )"
   ]
  },
  {
   "cell_type": "markdown",
   "metadata": {},
   "source": [
    "#### Draw an optical function for different crossing angles"
   ]
  },
  {
   "cell_type": "code",
   "execution_count": 6,
   "metadata": {},
   "outputs": [
    {
     "data": {
      "text/plain": [
       "([<cppyy.gbl.TSpline3 object at 0x993be80>,\n",
       "  <cppyy.gbl.TSpline3 object at 0x997f420>,\n",
       "  <cppyy.gbl.TSpline3 object at 0x9998ce0>],\n",
       " <cppyy.gbl.TCanvas object at 0xa41b710>,\n",
       " <cppyy.gbl.TLegend object at 0xa436490>)"
      ]
     },
     "execution_count": 6,
     "metadata": {},
     "output_type": "execute_result"
    },
    {
     "data": {
      "image/png": "[encoded data removed]",
      "text/plain": [
       "<IPython.core.display.Image object>"
      ]
     },
     "metadata": {},
     "output_type": "display_data"
    }
   ],
   "source": [
    "proton_transport.draw_function_vs_xangle( 23, \"x_D\" )"
   ]
  },
  {
   "cell_type": "markdown",
   "metadata": {},
   "source": [
    "### Find proton position at detectors"
   ]
  },
  {
   "cell_type": "markdown",
   "metadata": {},
   "source": [
    "#### For increasing $\\xi$ values\n",
    "\n",
    "`transport(rpid, xangle, kinematics)`\n",
    "\n",
    "kinematics = (x, $\\theta_x$, y, $\\theta_y$, $\\xi$ )"
   ]
  },
  {
   "cell_type": "code",
   "execution_count": 7,
   "metadata": {},
   "outputs": [
    {
     "name": "stdout",
     "output_type": "stream",
     "text": [
      "Principal crossing angle values: [135, 145, 160]\n",
      "Interpolate: False\n",
      "{'x_D': 0.45704748502254855, 'v_x': -4.450592038335282, 'L_x': -1541.53220256763, 'y_D': 0.0, 'v_y': -4.04791163558264, 'L_y': -869.5079643079947}\n",
      "Transverse position in detector: (0.45704748502254855,0.0)\n",
      "RP position: -21955.0\n",
      "Principal crossing angle values: [135, 145, 160]\n",
      "Interpolate: False\n",
      "{'x_D': 0.9731594161194407, 'v_x': -4.613334174605157, 'L_x': -3145.037305977341, 'y_D': 0.0, 'v_y': -4.620840055295908, 'L_y': -2994.4679535640776}\n",
      "Transverse position in detector: (0.9731594161194407,0.0)\n",
      "RP position: -21955.0\n",
      "Principal crossing angle values: [135, 145, 160]\n",
      "Interpolate: False\n",
      "{'x_D': 1.5514351593922955, 'v_x': -4.739099966774631, 'L_x': -4728.5066487594695, 'y_D': 0.0, 'v_y': -5.210295606054993, 'L_y': -5162.06614571629}\n",
      "Transverse position in detector: (1.5514351593922955,0.0)\n",
      "RP position: -21955.0\n",
      "Principal crossing angle values: [135, 145, 160]\n",
      "Interpolate: False\n",
      "{'x_D': 2.1951765610202814, 'v_x': -4.823796268535296, 'L_x': -6282.042388961855, 'y_D': 0.0, 'v_y': -5.813115560508364, 'L_y': -7361.960317346594}\n",
      "Transverse position in detector: (2.1951765610202814,0.0)\n",
      "RP position: -21955.0\n"
     ]
    }
   ],
   "source": [
    "proton_transport.set_verbose( True )\n",
    "proton_transport.transport( 23, 135., (0., 0., 0., 0., 0.05) )\n",
    "proton_transport.transport( 23, 135., (0., 0., 0., 0., 0.10) )\n",
    "proton_transport.transport( 23, 135., (0., 0., 0., 0., 0.15) )\n",
    "proton_transport.transport( 23, 135., (0., 0., 0., 0., 0.20) )\n",
    "proton_transport.set_verbose( False )"
   ]
  },
  {
   "cell_type": "markdown",
   "metadata": {},
   "source": [
    "#### For different crossing angles\n",
    "\n",
    "`transport(rpid, xangle, kinematics)`\n",
    "\n",
    "kinematics = (x, $\\theta_x$, y, $\\theta_y$, $\\xi$ )"
   ]
  },
  {
   "cell_type": "code",
   "execution_count": 8,
   "metadata": {},
   "outputs": [
    {
     "name": "stdout",
     "output_type": "stream",
     "text": [
      "Principal crossing angle values: [135, 145, 160]\n",
      "Interpolate: True\n",
      "{'x_D': 1.0290593929355474, 'v_x': -4.5532536465077, 'L_x': -3100.627150414331, 'y_D': 0.0, 'v_y': -4.632473451458796, 'L_y': -3014.5233733854216}\n",
      "Transverse position in detector: (1.0290593929355474,0.0)\n",
      "RP position: 21955.0\n",
      "Principal crossing angle values: [135, 145, 160]\n",
      "Interpolate: True\n",
      "{'x_D': 0.9782717660554157, 'v_x': -4.5532536465077, 'L_x': -3100.627150414331, 'y_D': 0.0, 'v_y': -4.632473451458796, 'L_y': -3014.5233733854216}\n",
      "Transverse position in detector: (0.9782717660554157,0.0)\n",
      "RP position: 21955.0\n",
      "Principal crossing angle values: [135, 145, 160]\n",
      "Interpolate: False\n",
      "{'x_D': 0.9274841391752842, 'v_x': -4.5532536465077, 'L_x': -3100.627150414331, 'y_D': 0.0, 'v_y': -4.632473451458796, 'L_y': -3014.5233733854216}\n",
      "Transverse position in detector: (0.9274841391752842,0.0)\n",
      "RP position: 21955.0\n",
      "Principal crossing angle values: [135, 145, 160]\n",
      "Interpolate: False\n",
      "{'x_D': 0.8764758559037709, 'v_x': -4.5532536465077, 'L_x': -3100.627150414331, 'y_D': 0.0, 'v_y': -4.632473451458796, 'L_y': -3014.5233733854216}\n",
      "Transverse position in detector: (0.8764758559037709,0.0)\n",
      "RP position: 21955.0\n"
     ]
    }
   ],
   "source": [
    "proton_transport.set_verbose( True )\n",
    "proton_transport.transport( 123, 115., (0., 0., 0., 0., 0.10) )\n",
    "proton_transport.transport( 123, 130., (0., 0., 0., 0., 0.10) )\n",
    "proton_transport.transport( 123, 145., (0., 0., 0., 0., 0.10) )\n",
    "proton_transport.transport( 123, 160., (0., 0., 0., 0., 0.10) )\n",
    "proton_transport.set_verbose( False )"
   ]
  },
  {
   "cell_type": "markdown",
   "metadata": {},
   "source": [
    "#### Varying $\\theta_x$ and $\\theta_y$\n",
    "\n",
    "`transport(rpid, xangle, kinematics)`\n",
    "\n",
    "kinematics = (x, $\\theta_x$, y, $\\theta_y$, $\\xi$ )"
   ]
  },
  {
   "cell_type": "code",
   "execution_count": 9,
   "metadata": {},
   "outputs": [
    {
     "name": "stdout",
     "output_type": "stream",
     "text": [
      "Principal crossing angle values: [135, 145, 160]\n",
      "Interpolate: False\n",
      "{'x_D': 0.9613425570953719, 'v_x': -4.5532536465077, 'L_x': -3100.627150414331, 'y_D': 0.0, 'v_y': -4.632473451458796, 'L_y': -3014.5233733854216}\n",
      "Transverse position in detector: (0.9613425570953719,0.0)\n",
      "RP position: 21955.0\n",
      "Principal crossing angle values: [135, 145, 160]\n",
      "Interpolate: False\n",
      "{'x_D': 0.9613425570953719, 'v_x': -4.5532536465077, 'L_x': -3100.627150414331, 'y_D': 0.0, 'v_y': -4.632473451458796, 'L_y': -3014.5233733854216}\n",
      "Transverse position in detector: (1.1163739146160885,0.0)\n",
      "RP position: 21955.0\n",
      "Principal crossing angle values: [135, 145, 160]\n",
      "Interpolate: False\n",
      "{'x_D': 0.9613425570953719, 'v_x': -4.5532536465077, 'L_x': -3100.627150414331, 'y_D': 0.0, 'v_y': -4.632473451458796, 'L_y': -3014.5233733854216}\n",
      "Transverse position in detector: (0.8063111995746552,0.0)\n",
      "RP position: 21955.0\n",
      "Principal crossing angle values: [135, 145, 160]\n",
      "Interpolate: False\n",
      "{'x_D': 0.9613425570953719, 'v_x': -4.5532536465077, 'L_x': -3100.627150414331, 'y_D': 0.0, 'v_y': -4.632473451458796, 'L_y': -3014.5233733854216}\n",
      "Transverse position in detector: (0.9613425570953719,0.15072616866927108)\n",
      "RP position: 21955.0\n",
      "Principal crossing angle values: [135, 145, 160]\n",
      "Interpolate: False\n",
      "{'x_D': 0.9613425570953719, 'v_x': -4.5532536465077, 'L_x': -3100.627150414331, 'y_D': 0.0, 'v_y': -4.632473451458796, 'L_y': -3014.5233733854216}\n",
      "Transverse position in detector: (0.9613425570953719,-0.15072616866927108)\n",
      "RP position: 21955.0\n"
     ]
    }
   ],
   "source": [
    "proton_transport.set_verbose( True )\n",
    "proton_transport.transport( 123, 135., (0., 0., 0., 0., 0.10) )\n",
    "proton_transport.transport( 123, 135., (0., -50e-06, 0., 0., 0.10) )\n",
    "proton_transport.transport( 123, 135., (0.,  50e-06, 0., 0., 0.10) )\n",
    "proton_transport.transport( 123, 135., (0., 0., 0., -50e-06, 0.10) )\n",
    "proton_transport.transport( 123, 135., (0., 0., 0.,  50e-06, 0.10) )\n",
    "proton_transport.set_verbose( False )"
   ]
  },
  {
   "cell_type": "markdown",
   "metadata": {},
   "source": [
    "### Generate a random sample of protons"
   ]
  },
  {
   "cell_type": "code",
   "execution_count": 10,
   "metadata": {},
   "outputs": [],
   "source": [
    "import numpy as np\n",
    "import matplotlib.pyplot as plt\n",
    "from matplotlib.colors import LogNorm\n",
    "\n",
    "np.random.seed(42)\n",
    "\n",
    "nevents = 100000\n",
    "rpid = 123\n",
    "xangle = 160.\n",
    "sigma_theta = 60.e-6\n",
    "\n",
    "xi = 0. + 0.20*np.random.rand( nevents )\n",
    "\n",
    "x = y = 0\n",
    "arr_theta = sigma_theta * np.random.randn( nevents, 2 )\n",
    "\n",
    "data = np.c_[ ( np.ones( nevents ) * x ), arr_theta[:,0],\n",
    "              ( np.ones( nevents ) * y ), arr_theta[:,1], xi ]\n",
    "\n",
    "proton_transport.transport( rpid, xangle, data[0] )\n",
    "\n",
    "f_ = lambda kinematics: proton_transport.transport( rpid, xangle, kinematics )\n",
    "\n",
    "positions_rp = np.apply_along_axis( f_, 1, data )"
   ]
  },
  {
   "cell_type": "code",
   "execution_count": 11,
   "metadata": {},
   "outputs": [
    {
     "data": {
      "text/plain": [
       "Text(0, 0.5, 'Y (mm)')"
      ]
     },
     "execution_count": 11,
     "metadata": {},
     "output_type": "execute_result"
    },
    {
     "data": {
      "image/png": "[encoded data removed]",
      "text/plain": [
       "<Figure size 720x720 with 1 Axes>"
      ]
     },
     "metadata": {
      "needs_background": "light"
     },
     "output_type": "display_data"
    }
   ],
   "source": [
    "fig = plt.figure( figsize=(10,10) )\n",
    "counts, xedges, yedges, im = plt.hist2d( positions_rp[:,0]*1e1, positions_rp[:,1]*1e1, bins=(100,100), range=( (0.,20.), (-10.,10.) ), norm=LogNorm(), cmap='viridis' )\n",
    "plt.xlabel( \"X (mm)\", fontsize=20 )\n",
    "plt.ylabel( \"Y (mm)\", fontsize=20 )"
   ]
  },
  {
   "cell_type": "markdown",
   "metadata": {},
   "source": [
    "### Apply an arbitrary cut reflecting the detector horizontal position"
   ]
  },
  {
   "cell_type": "code",
   "execution_count": 12,
   "metadata": {},
   "outputs": [
    {
     "data": {
      "text/plain": [
       "Text(0, 0.5, 'Y (mm)')"
      ]
     },
     "execution_count": 12,
     "metadata": {},
     "output_type": "execute_result"
    },
    {
     "data": {
      "image/png": "[encoded data removed]",
      "text/plain": [
       "<Figure size 720x720 with 1 Axes>"
      ]
     },
     "metadata": {
      "needs_background": "light"
     },
     "output_type": "display_data"
    }
   ],
   "source": [
    "x_min = 0.2\n",
    "msk = positions_rp[:,0] >= x_min\n",
    "positions_rp_xcut = positions_rp[ msk, : ]\n",
    "\n",
    "fig = plt.figure( figsize=(10,10) )\n",
    "counts, xedges, yedges, im = plt.hist2d( positions_rp_xcut[:,0]*1e1, positions_rp_xcut[:,1]*1e1, bins=(100,100), range=( (0.,20.), (-10.,10.) ), norm=LogNorm(), cmap='viridis' )\n",
    "plt.xlabel( \"X (mm)\", fontsize=20 )\n",
    "plt.ylabel( \"Y (mm)\", fontsize=20 )"
   ]
  },
  {
   "cell_type": "markdown",
   "metadata": {},
   "source": [
    "### Access proton data\n",
    "\n",
    "First, we will use a data file from the storage and prepare pandas dataframe"
   ]
  },
  {
   "cell_type": "code",
   "execution_count": 13,
   "metadata": {
    "scrolled": true
   },
   "outputs": [],
   "source": [
    "import pandas as pd\n",
    "import h5py\n",
    "\n",
    "fileName = \"/eos/home-c/cmsdas/2023/short-ex-pps/data/output-UL2017B-PreSel.h5\"\n",
    "\n",
    "df = None\n",
    "event_counts = None\n",
    "selections = None\n",
    "\n",
    "with h5py.File( fileName, 'r' ) as f:\n",
    "    #print ( list(f.keys()) )\n",
    "    dset = f['protons']\n",
    "    #print ( dset.shape )\n",
    "    #print ( dset[:,:] )\n",
    "    dset_columns = f['columns']\n",
    "    #print ( dset_columns.shape )\n",
    "    columns = list( dset_columns )\n",
    "    #print ( columns )\n",
    "    columns_str = [ item.decode(\"utf-8\") for item in columns ]\n",
    "    #print ( columns_str )\n",
    "    \n",
    "    dset_counts = f['event_counts']\n",
    "    event_counts = list( dset_counts )\n",
    "    #print ( event_counts )\n",
    "    \n",
    "    dset_selections = f['selections']\n",
    "    selections_ = list( dset_selections )\n",
    "    #print ( selections_ )\n",
    "    selections = [ item.decode(\"utf-8\") for item in selections_ ]\n",
    "    #print ( selections )\n",
    "    \n",
    "    df = pd.DataFrame( dset, columns=columns_str )\n",
    "    \n",
    "    df = df[ ['Run', 'LumiSection', 'EventNum', 'CrossingAngle', \n",
    "              'MultiRP', 'Arm', 'RPId1', 'RPId2', 'TrackX1', 'TrackY1', 'TrackX2', 'TrackY2',\n",
    "              'Xi', 'T', 'ThX', 'ThY'] ].astype( { \"Run\": \"int64\", \"LumiSection\": \"int64\", \"EventNum\": \"int64\", \"MultiRP\": \"int32\", \"Arm\": \"int32\", \"RPId1\": \"int32\", \"RPId2\": \"int32\" } )\n",
    "    "
   ]
  },
  {
   "cell_type": "markdown",
   "metadata": {},
   "source": [
    "Filter the dataframe for events with protons that are reconstructed with the `MultiRP` algorithm, slim the dataframe (select a sub-set of variables) and inspect the dataframe content"
   ]
  },
  {
   "cell_type": "code",
   "execution_count": 14,
   "metadata": {
    "scrolled": true
   },
   "outputs": [
    {
     "data": {
      "text/html": [
       "<div>\n",
       "<style scoped>\n",
       "    .dataframe tbody tr th:only-of-type {\n",
       "        vertical-align: middle;\n",
       "    }\n",
       "\n",
       "    .dataframe tbody tr th {\n",
       "        vertical-align: top;\n",
       "    }\n",
       "\n",
       "    .dataframe thead th {\n",
       "        text-align: right;\n",
       "    }\n",
       "</style>\n",
       "<table border=\"1\" class=\"dataframe\">\n",
       "  <thead>\n",
       "    <tr style=\"text-align: right;\">\n",
       "      <th></th>\n",
       "      <th>Run</th>\n",
       "      <th>LumiSection</th>\n",
       "      <th>EventNum</th>\n",
       "      <th>CrossingAngle</th>\n",
       "      <th>MultiRP</th>\n",
       "      <th>Arm</th>\n",
       "      <th>RPId1</th>\n",
       "      <th>RPId2</th>\n",
       "      <th>TrackX1</th>\n",
       "      <th>TrackY1</th>\n",
       "      <th>TrackX2</th>\n",
       "      <th>TrackY2</th>\n",
       "      <th>Xi</th>\n",
       "      <th>T</th>\n",
       "      <th>ThX</th>\n",
       "      <th>ThY</th>\n",
       "    </tr>\n",
       "  </thead>\n",
       "  <tbody>\n",
       "    <tr>\n",
       "      <th>3</th>\n",
       "      <td>297227</td>\n",
       "      <td>55</td>\n",
       "      <td>38079656</td>\n",
       "      <td>120.0</td>\n",
       "      <td>1</td>\n",
       "      <td>1</td>\n",
       "      <td>103</td>\n",
       "      <td>123</td>\n",
       "      <td>4.577393</td>\n",
       "      <td>1.367676</td>\n",
       "      <td>4.395691</td>\n",
       "      <td>1.493408</td>\n",
       "      <td>0.067306</td>\n",
       "      <td>-0.160121</td>\n",
       "      <td>-0.000061</td>\n",
       "      <td>-0.000014</td>\n",
       "    </tr>\n",
       "    <tr>\n",
       "      <th>6</th>\n",
       "      <td>297227</td>\n",
       "      <td>56</td>\n",
       "      <td>38791640</td>\n",
       "      <td>120.0</td>\n",
       "      <td>1</td>\n",
       "      <td>1</td>\n",
       "      <td>103</td>\n",
       "      <td>123</td>\n",
       "      <td>8.585938</td>\n",
       "      <td>2.644531</td>\n",
       "      <td>8.483521</td>\n",
       "      <td>2.801025</td>\n",
       "      <td>0.102869</td>\n",
       "      <td>-0.039719</td>\n",
       "      <td>-0.000015</td>\n",
       "      <td>0.000024</td>\n",
       "    </tr>\n",
       "    <tr>\n",
       "      <th>11</th>\n",
       "      <td>297227</td>\n",
       "      <td>56</td>\n",
       "      <td>38604580</td>\n",
       "      <td>120.0</td>\n",
       "      <td>1</td>\n",
       "      <td>0</td>\n",
       "      <td>3</td>\n",
       "      <td>23</td>\n",
       "      <td>4.131104</td>\n",
       "      <td>0.797180</td>\n",
       "      <td>4.206665</td>\n",
       "      <td>0.942139</td>\n",
       "      <td>0.036897</td>\n",
       "      <td>-0.315390</td>\n",
       "      <td>0.000015</td>\n",
       "      <td>-0.000087</td>\n",
       "    </tr>\n",
       "    <tr>\n",
       "      <th>12</th>\n",
       "      <td>297227</td>\n",
       "      <td>56</td>\n",
       "      <td>38604580</td>\n",
       "      <td>120.0</td>\n",
       "      <td>1</td>\n",
       "      <td>1</td>\n",
       "      <td>103</td>\n",
       "      <td>123</td>\n",
       "      <td>3.514526</td>\n",
       "      <td>1.507568</td>\n",
       "      <td>3.416473</td>\n",
       "      <td>1.723877</td>\n",
       "      <td>0.047317</td>\n",
       "      <td>-0.277554</td>\n",
       "      <td>-0.000034</td>\n",
       "      <td>-0.000076</td>\n",
       "    </tr>\n",
       "    <tr>\n",
       "      <th>22</th>\n",
       "      <td>297227</td>\n",
       "      <td>59</td>\n",
       "      <td>40601156</td>\n",
       "      <td>120.0</td>\n",
       "      <td>1</td>\n",
       "      <td>0</td>\n",
       "      <td>3</td>\n",
       "      <td>23</td>\n",
       "      <td>3.521118</td>\n",
       "      <td>0.645874</td>\n",
       "      <td>3.669800</td>\n",
       "      <td>0.839172</td>\n",
       "      <td>0.029943</td>\n",
       "      <td>-0.687121</td>\n",
       "      <td>0.000058</td>\n",
       "      <td>-0.000116</td>\n",
       "    </tr>\n",
       "    <tr>\n",
       "      <th>33</th>\n",
       "      <td>297227</td>\n",
       "      <td>70</td>\n",
       "      <td>49904104</td>\n",
       "      <td>120.0</td>\n",
       "      <td>1</td>\n",
       "      <td>0</td>\n",
       "      <td>3</td>\n",
       "      <td>23</td>\n",
       "      <td>9.614258</td>\n",
       "      <td>1.467651</td>\n",
       "      <td>9.968140</td>\n",
       "      <td>1.505981</td>\n",
       "      <td>0.067364</td>\n",
       "      <td>-0.478235</td>\n",
       "      <td>0.000109</td>\n",
       "      <td>-0.000016</td>\n",
       "    </tr>\n",
       "    <tr>\n",
       "      <th>36</th>\n",
       "      <td>297227</td>\n",
       "      <td>70</td>\n",
       "      <td>49482508</td>\n",
       "      <td>120.0</td>\n",
       "      <td>1</td>\n",
       "      <td>1</td>\n",
       "      <td>103</td>\n",
       "      <td>123</td>\n",
       "      <td>8.175293</td>\n",
       "      <td>1.603638</td>\n",
       "      <td>8.151611</td>\n",
       "      <td>1.696777</td>\n",
       "      <td>0.091017</td>\n",
       "      <td>-0.046286</td>\n",
       "      <td>0.000012</td>\n",
       "      <td>0.000029</td>\n",
       "    </tr>\n",
       "    <tr>\n",
       "      <th>39</th>\n",
       "      <td>297227</td>\n",
       "      <td>71</td>\n",
       "      <td>50687028</td>\n",
       "      <td>120.0</td>\n",
       "      <td>1</td>\n",
       "      <td>0</td>\n",
       "      <td>3</td>\n",
       "      <td>23</td>\n",
       "      <td>5.214844</td>\n",
       "      <td>-0.371826</td>\n",
       "      <td>5.485840</td>\n",
       "      <td>-0.559387</td>\n",
       "      <td>0.039614</td>\n",
       "      <td>-0.817277</td>\n",
       "      <td>0.000107</td>\n",
       "      <td>0.000093</td>\n",
       "    </tr>\n",
       "    <tr>\n",
       "      <th>43</th>\n",
       "      <td>297227</td>\n",
       "      <td>73</td>\n",
       "      <td>51787112</td>\n",
       "      <td>120.0</td>\n",
       "      <td>1</td>\n",
       "      <td>1</td>\n",
       "      <td>103</td>\n",
       "      <td>123</td>\n",
       "      <td>4.165283</td>\n",
       "      <td>2.669922</td>\n",
       "      <td>3.366089</td>\n",
       "      <td>2.755859</td>\n",
       "      <td>0.157372</td>\n",
       "      <td>-2.175805</td>\n",
       "      <td>-0.000208</td>\n",
       "      <td>0.000130</td>\n",
       "    </tr>\n",
       "    <tr>\n",
       "      <th>48</th>\n",
       "      <td>297227</td>\n",
       "      <td>73</td>\n",
       "      <td>52238048</td>\n",
       "      <td>120.0</td>\n",
       "      <td>1</td>\n",
       "      <td>1</td>\n",
       "      <td>103</td>\n",
       "      <td>123</td>\n",
       "      <td>5.372803</td>\n",
       "      <td>0.135132</td>\n",
       "      <td>5.530518</td>\n",
       "      <td>0.127640</td>\n",
       "      <td>0.052213</td>\n",
       "      <td>-0.338402</td>\n",
       "      <td>0.000086</td>\n",
       "      <td>0.000031</td>\n",
       "    </tr>\n",
       "    <tr>\n",
       "      <th>51</th>\n",
       "      <td>297227</td>\n",
       "      <td>74</td>\n",
       "      <td>52411720</td>\n",
       "      <td>120.0</td>\n",
       "      <td>1</td>\n",
       "      <td>1</td>\n",
       "      <td>103</td>\n",
       "      <td>123</td>\n",
       "      <td>4.895752</td>\n",
       "      <td>-0.607605</td>\n",
       "      <td>5.118286</td>\n",
       "      <td>-0.795349</td>\n",
       "      <td>0.045295</td>\n",
       "      <td>-1.155988</td>\n",
       "      <td>0.000118</td>\n",
       "      <td>0.000121</td>\n",
       "    </tr>\n",
       "    <tr>\n",
       "      <th>54</th>\n",
       "      <td>297227</td>\n",
       "      <td>74</td>\n",
       "      <td>52460784</td>\n",
       "      <td>120.0</td>\n",
       "      <td>1</td>\n",
       "      <td>1</td>\n",
       "      <td>103</td>\n",
       "      <td>123</td>\n",
       "      <td>3.893433</td>\n",
       "      <td>0.505127</td>\n",
       "      <td>4.032166</td>\n",
       "      <td>0.557068</td>\n",
       "      <td>0.039867</td>\n",
       "      <td>-0.254717</td>\n",
       "      <td>0.000079</td>\n",
       "      <td>-0.000002</td>\n",
       "    </tr>\n",
       "    <tr>\n",
       "      <th>57</th>\n",
       "      <td>297227</td>\n",
       "      <td>75</td>\n",
       "      <td>53687296</td>\n",
       "      <td>120.0</td>\n",
       "      <td>1</td>\n",
       "      <td>1</td>\n",
       "      <td>103</td>\n",
       "      <td>123</td>\n",
       "      <td>8.751953</td>\n",
       "      <td>-1.412354</td>\n",
       "      <td>8.930176</td>\n",
       "      <td>-1.569824</td>\n",
       "      <td>0.079423</td>\n",
       "      <td>-0.752605</td>\n",
       "      <td>0.000091</td>\n",
       "      <td>0.000104</td>\n",
       "    </tr>\n",
       "    <tr>\n",
       "      <th>61</th>\n",
       "      <td>297227</td>\n",
       "      <td>75</td>\n",
       "      <td>53449356</td>\n",
       "      <td>120.0</td>\n",
       "      <td>1</td>\n",
       "      <td>0</td>\n",
       "      <td>3</td>\n",
       "      <td>23</td>\n",
       "      <td>12.326172</td>\n",
       "      <td>-1.268066</td>\n",
       "      <td>12.443970</td>\n",
       "      <td>-1.466431</td>\n",
       "      <td>0.104492</td>\n",
       "      <td>-0.174950</td>\n",
       "      <td>-0.000013</td>\n",
       "      <td>0.000065</td>\n",
       "    </tr>\n",
       "    <tr>\n",
       "      <th>64</th>\n",
       "      <td>297227</td>\n",
       "      <td>75</td>\n",
       "      <td>53886576</td>\n",
       "      <td>120.0</td>\n",
       "      <td>1</td>\n",
       "      <td>0</td>\n",
       "      <td>3</td>\n",
       "      <td>23</td>\n",
       "      <td>6.321533</td>\n",
       "      <td>1.730103</td>\n",
       "      <td>6.489929</td>\n",
       "      <td>1.871948</td>\n",
       "      <td>0.051632</td>\n",
       "      <td>-0.278659</td>\n",
       "      <td>0.000046</td>\n",
       "      <td>-0.000069</td>\n",
       "    </tr>\n",
       "    <tr>\n",
       "      <th>67</th>\n",
       "      <td>297227</td>\n",
       "      <td>76</td>\n",
       "      <td>54400560</td>\n",
       "      <td>120.0</td>\n",
       "      <td>1</td>\n",
       "      <td>0</td>\n",
       "      <td>3</td>\n",
       "      <td>23</td>\n",
       "      <td>8.904297</td>\n",
       "      <td>-0.764648</td>\n",
       "      <td>8.913330</td>\n",
       "      <td>-0.961060</td>\n",
       "      <td>0.083855</td>\n",
       "      <td>-0.333506</td>\n",
       "      <td>-0.000041</td>\n",
       "      <td>0.000082</td>\n",
       "    </tr>\n",
       "    <tr>\n",
       "      <th>70</th>\n",
       "      <td>297227</td>\n",
       "      <td>76</td>\n",
       "      <td>54126336</td>\n",
       "      <td>120.0</td>\n",
       "      <td>1</td>\n",
       "      <td>1</td>\n",
       "      <td>103</td>\n",
       "      <td>123</td>\n",
       "      <td>3.238647</td>\n",
       "      <td>1.550049</td>\n",
       "      <td>2.990662</td>\n",
       "      <td>1.700806</td>\n",
       "      <td>0.055042</td>\n",
       "      <td>-0.425402</td>\n",
       "      <td>-0.000099</td>\n",
       "      <td>-0.000029</td>\n",
       "    </tr>\n",
       "    <tr>\n",
       "      <th>73</th>\n",
       "      <td>297227</td>\n",
       "      <td>78</td>\n",
       "      <td>56185408</td>\n",
       "      <td>120.0</td>\n",
       "      <td>1</td>\n",
       "      <td>1</td>\n",
       "      <td>103</td>\n",
       "      <td>123</td>\n",
       "      <td>5.210449</td>\n",
       "      <td>-1.396362</td>\n",
       "      <td>5.256653</td>\n",
       "      <td>-1.599121</td>\n",
       "      <td>0.056894</td>\n",
       "      <td>-0.591158</td>\n",
       "      <td>0.000035</td>\n",
       "      <td>0.000116</td>\n",
       "    </tr>\n",
       "    <tr>\n",
       "      <th>81</th>\n",
       "      <td>297227</td>\n",
       "      <td>81</td>\n",
       "      <td>58284068</td>\n",
       "      <td>120.0</td>\n",
       "      <td>1</td>\n",
       "      <td>1</td>\n",
       "      <td>103</td>\n",
       "      <td>123</td>\n",
       "      <td>11.446289</td>\n",
       "      <td>3.683838</td>\n",
       "      <td>11.773193</td>\n",
       "      <td>3.968506</td>\n",
       "      <td>0.089371</td>\n",
       "      <td>-0.922007</td>\n",
       "      <td>0.000148</td>\n",
       "      <td>-0.000045</td>\n",
       "    </tr>\n",
       "    <tr>\n",
       "      <th>85</th>\n",
       "      <td>297227</td>\n",
       "      <td>85</td>\n",
       "      <td>61573672</td>\n",
       "      <td>120.0</td>\n",
       "      <td>1</td>\n",
       "      <td>0</td>\n",
       "      <td>3</td>\n",
       "      <td>23</td>\n",
       "      <td>7.032471</td>\n",
       "      <td>0.151062</td>\n",
       "      <td>7.186768</td>\n",
       "      <td>0.040638</td>\n",
       "      <td>0.058042</td>\n",
       "      <td>-0.161547</td>\n",
       "      <td>0.000034</td>\n",
       "      <td>0.000053</td>\n",
       "    </tr>\n",
       "  </tbody>\n",
       "</table>\n",
       "</div>"
      ],
      "text/plain": [
       "       Run  LumiSection  EventNum  CrossingAngle  MultiRP  Arm  RPId1  RPId2  \\\n",
       "3   297227           55  38079656          120.0        1    1    103    123   \n",
       "6   297227           56  38791640          120.0        1    1    103    123   \n",
       "11  297227           56  38604580          120.0        1    0      3     23   \n",
       "12  297227           56  38604580          120.0        1    1    103    123   \n",
       "22  297227           59  40601156          120.0        1    0      3     23   \n",
       "33  297227           70  49904104          120.0        1    0      3     23   \n",
       "36  297227           70  49482508          120.0        1    1    103    123   \n",
       "39  297227           71  50687028          120.0        1    0      3     23   \n",
       "43  297227           73  51787112          120.0        1    1    103    123   \n",
       "48  297227           73  52238048          120.0        1    1    103    123   \n",
       "51  297227           74  52411720          120.0        1    1    103    123   \n",
       "54  297227           74  52460784          120.0        1    1    103    123   \n",
       "57  297227           75  53687296          120.0        1    1    103    123   \n",
       "61  297227           75  53449356          120.0        1    0      3     23   \n",
       "64  297227           75  53886576          120.0        1    0      3     23   \n",
       "67  297227           76  54400560          120.0        1    0      3     23   \n",
       "70  297227           76  54126336          120.0        1    1    103    123   \n",
       "73  297227           78  56185408          120.0        1    1    103    123   \n",
       "81  297227           81  58284068          120.0        1    1    103    123   \n",
       "85  297227           85  61573672          120.0        1    0      3     23   \n",
       "\n",
       "      TrackX1   TrackY1    TrackX2   TrackY2        Xi         T       ThX  \\\n",
       "3    4.577393  1.367676   4.395691  1.493408  0.067306 -0.160121 -0.000061   \n",
       "6    8.585938  2.644531   8.483521  2.801025  0.102869 -0.039719 -0.000015   \n",
       "11   4.131104  0.797180   4.206665  0.942139  0.036897 -0.315390  0.000015   \n",
       "12   3.514526  1.507568   3.416473  1.723877  0.047317 -0.277554 -0.000034   \n",
       "22   3.521118  0.645874   3.669800  0.839172  0.029943 -0.687121  0.000058   \n",
       "33   9.614258  1.467651   9.968140  1.505981  0.067364 -0.478235  0.000109   \n",
       "36   8.175293  1.603638   8.151611  1.696777  0.091017 -0.046286  0.000012   \n",
       "39   5.214844 -0.371826   5.485840 -0.559387  0.039614 -0.817277  0.000107   \n",
       "43   4.165283  2.669922   3.366089  2.755859  0.157372 -2.175805 -0.000208   \n",
       "48   5.372803  0.135132   5.530518  0.127640  0.052213 -0.338402  0.000086   \n",
       "51   4.895752 -0.607605   5.118286 -0.795349  0.045295 -1.155988  0.000118   \n",
       "54   3.893433  0.505127   4.032166  0.557068  0.039867 -0.254717  0.000079   \n",
       "57   8.751953 -1.412354   8.930176 -1.569824  0.079423 -0.752605  0.000091   \n",
       "61  12.326172 -1.268066  12.443970 -1.466431  0.104492 -0.174950 -0.000013   \n",
       "64   6.321533  1.730103   6.489929  1.871948  0.051632 -0.278659  0.000046   \n",
       "67   8.904297 -0.764648   8.913330 -0.961060  0.083855 -0.333506 -0.000041   \n",
       "70   3.238647  1.550049   2.990662  1.700806  0.055042 -0.425402 -0.000099   \n",
       "73   5.210449 -1.396362   5.256653 -1.599121  0.056894 -0.591158  0.000035   \n",
       "81  11.446289  3.683838  11.773193  3.968506  0.089371 -0.922007  0.000148   \n",
       "85   7.032471  0.151062   7.186768  0.040638  0.058042 -0.161547  0.000034   \n",
       "\n",
       "         ThY  \n",
       "3  -0.000014  \n",
       "6   0.000024  \n",
       "11 -0.000087  \n",
       "12 -0.000076  \n",
       "22 -0.000116  \n",
       "33 -0.000016  \n",
       "36  0.000029  \n",
       "39  0.000093  \n",
       "43  0.000130  \n",
       "48  0.000031  \n",
       "51  0.000121  \n",
       "54 -0.000002  \n",
       "57  0.000104  \n",
       "61  0.000065  \n",
       "64 -0.000069  \n",
       "67  0.000082  \n",
       "70 -0.000029  \n",
       "73  0.000116  \n",
       "81 -0.000045  \n",
       "85  0.000053  "
      ]
     },
     "execution_count": 14,
     "metadata": {},
     "output_type": "execute_result"
    }
   ],
   "source": [
    "df = df[ df[\"MultiRP\"] == 1 ]\n",
    "df = df[ ['Run', 'LumiSection', 'EventNum', 'CrossingAngle', 'MultiRP', 'Arm', 'RPId1', 'RPId2', 'TrackX1', 'TrackY1', 'TrackX2', 'TrackY2', 'Xi', 'T', 'ThX', 'ThY'] ]\n",
    "df[:20]"
   ]
  },
  {
   "cell_type": "markdown",
   "metadata": {},
   "source": [
    "Draw (x,y) proton hits from the data:"
   ]
  },
  {
   "cell_type": "code",
   "execution_count": 15,
   "metadata": {},
   "outputs": [
    {
     "data": {
      "text/plain": [
       "Text(0, 0.5, 'Y (mm)')"
      ]
     },
     "execution_count": 15,
     "metadata": {},
     "output_type": "execute_result"
    },
    {
     "data": {
      "image/png": "[encoded data removed]",
      "text/plain": [
       "<Figure size 1440x720 with 2 Axes>"
      ]
     },
     "metadata": {
      "needs_background": "light"
     },
     "output_type": "display_data"
    }
   ],
   "source": [
    "msk_protons_1 = ( df[\"Arm\"] == 0 )\n",
    "msk_protons_2 = ( df[\"Arm\"] == 1 )\n",
    "    \n",
    "fig, axes = plt.subplots( 1, 2, figsize=(20,10) )\n",
    "axes[0].hist2d( df[ \"TrackX2\" ][ msk_protons_1 ], df[ \"TrackY2\" ][ msk_protons_1 ], bins=(100,100), range=( (0.,25.), (-10.,10.) ), norm=LogNorm(), cmap='viridis' )\n",
    "axes[0].set_xlabel( \"X (mm)\", fontsize=20 )\n",
    "axes[0].set_ylabel( \"Y (mm)\", fontsize=20 )\n",
    "axes[1].hist2d( df[ \"TrackX2\" ][ msk_protons_2 ], df[ \"TrackY2\" ][ msk_protons_2 ], bins=(100,100), range=( (0.,25.), (-10.,10.) ), norm=LogNorm(), cmap='viridis' )\n",
    "axes[1].set_xlabel( \"X (mm)\", fontsize=20 )\n",
    "axes[1].set_ylabel( \"Y (mm)\", fontsize=20 )"
   ]
  },
  {
   "cell_type": "code",
   "execution_count": null,
   "metadata": {},
   "outputs": [],
   "source": []
  }
 ],
 "metadata": {
  "kernelspec": {
   "display_name": "Python 3",
   "language": "python",
   "name": "python3"
  },
  "language_info": {
   "codemirror_mode": {
    "name": "ipython",
    "version": 3
   },
   "file_extension": ".py",
   "mimetype": "text/x-python",
   "name": "python",
   "nbconvert_exporter": "python",
   "pygments_lexer": "ipython3",
   "version": "3.9.12"
  }
 },
 "nbformat": 4,
 "nbformat_minor": 4
}
